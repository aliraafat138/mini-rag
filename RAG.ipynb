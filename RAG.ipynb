{
 "cells": [
  {
   "cell_type": "markdown",
   "id": "7658ab3f-1213-4528-809f-dad4de5d0be1",
   "metadata": {},
   "source": [
    "**Load Libraries**"
   ]
  },
  {
   "cell_type": "code",
   "execution_count": 2,
   "id": "ae918a00-f8b9-493a-88a3-d4cf6faa60df",
   "metadata": {},
   "outputs": [
    {
     "name": "stdout",
     "output_type": "stream",
     "text": [
      "Requirement already satisfied: langchain in c:\\users\\elwady\\miniconda3\\lib\\site-packages (0.3.27)\n",
      "Requirement already satisfied: langchain-openai in c:\\users\\elwady\\miniconda3\\lib\\site-packages (0.3.33)\n",
      "Requirement already satisfied: openai in c:\\users\\elwady\\miniconda3\\lib\\site-packages (1.108.0)\n",
      "Requirement already satisfied: chromadb in c:\\users\\elwady\\miniconda3\\lib\\site-packages (1.1.0)\n",
      "Requirement already satisfied: gradio in c:\\users\\elwady\\miniconda3\\lib\\site-packages (5.45.0)\n",
      "Requirement already satisfied: dotenv in c:\\users\\elwady\\miniconda3\\lib\\site-packages (0.9.9)\n",
      "Requirement already satisfied: langchain-community in c:\\users\\elwady\\miniconda3\\lib\\site-packages (0.3.29)\n",
      "Requirement already satisfied: langchain-core<1.0.0,>=0.3.72 in c:\\users\\elwady\\miniconda3\\lib\\site-packages (from langchain) (0.3.76)\n",
      "Requirement already satisfied: langchain-text-splitters<1.0.0,>=0.3.9 in c:\\users\\elwady\\miniconda3\\lib\\site-packages (from langchain) (0.3.11)\n",
      "Requirement already satisfied: langsmith>=0.1.17 in c:\\users\\elwady\\miniconda3\\lib\\site-packages (from langchain) (0.4.28)\n",
      "Requirement already satisfied: pydantic<3.0.0,>=2.7.4 in c:\\users\\elwady\\miniconda3\\lib\\site-packages (from langchain) (2.11.9)\n",
      "Requirement already satisfied: SQLAlchemy<3,>=1.4 in c:\\users\\elwady\\miniconda3\\lib\\site-packages (from langchain) (2.0.43)\n",
      "Requirement already satisfied: requests<3,>=2 in c:\\users\\elwady\\miniconda3\\lib\\site-packages (from langchain) (2.32.5)\n",
      "Requirement already satisfied: PyYAML>=5.3 in c:\\users\\elwady\\miniconda3\\lib\\site-packages (from langchain) (6.0.2)\n",
      "Requirement already satisfied: tiktoken<1,>=0.7 in c:\\users\\elwady\\miniconda3\\lib\\site-packages (from langchain-openai) (0.11.0)\n",
      "Requirement already satisfied: anyio<5,>=3.5.0 in c:\\users\\elwady\\miniconda3\\lib\\site-packages (from openai) (4.10.0)\n",
      "Requirement already satisfied: distro<2,>=1.7.0 in c:\\users\\elwady\\miniconda3\\lib\\site-packages (from openai) (1.9.0)\n",
      "Requirement already satisfied: httpx<1,>=0.23.0 in c:\\users\\elwady\\miniconda3\\lib\\site-packages (from openai) (0.28.1)\n",
      "Requirement already satisfied: jiter<1,>=0.4.0 in c:\\users\\elwady\\miniconda3\\lib\\site-packages (from openai) (0.10.0)\n",
      "Requirement already satisfied: sniffio in c:\\users\\elwady\\miniconda3\\lib\\site-packages (from openai) (1.3.0)\n",
      "Requirement already satisfied: tqdm>4 in c:\\users\\elwady\\miniconda3\\lib\\site-packages (from openai) (4.66.5)\n",
      "Requirement already satisfied: typing-extensions<5,>=4.11 in c:\\users\\elwady\\miniconda3\\lib\\site-packages (from openai) (4.15.0)\n",
      "Requirement already satisfied: build>=1.0.3 in c:\\users\\elwady\\miniconda3\\lib\\site-packages (from chromadb) (1.3.0)\n",
      "Requirement already satisfied: pybase64>=1.4.1 in c:\\users\\elwady\\miniconda3\\lib\\site-packages (from chromadb) (1.4.2)\n",
      "Requirement already satisfied: uvicorn>=0.18.3 in c:\\users\\elwady\\miniconda3\\lib\\site-packages (from uvicorn[standard]>=0.18.3->chromadb) (0.35.0)\n",
      "Requirement already satisfied: numpy>=1.22.5 in c:\\users\\elwady\\miniconda3\\lib\\site-packages (from chromadb) (2.3.3)\n",
      "Requirement already satisfied: posthog<6.0.0,>=2.4.0 in c:\\users\\elwady\\miniconda3\\lib\\site-packages (from chromadb) (5.4.0)\n",
      "Requirement already satisfied: onnxruntime>=1.14.1 in c:\\users\\elwady\\miniconda3\\lib\\site-packages (from chromadb) (1.22.1)\n",
      "Requirement already satisfied: opentelemetry-api>=1.2.0 in c:\\users\\elwady\\miniconda3\\lib\\site-packages (from chromadb) (1.37.0)\n",
      "Requirement already satisfied: opentelemetry-exporter-otlp-proto-grpc>=1.2.0 in c:\\users\\elwady\\miniconda3\\lib\\site-packages (from chromadb) (1.37.0)\n",
      "Requirement already satisfied: opentelemetry-sdk>=1.2.0 in c:\\users\\elwady\\miniconda3\\lib\\site-packages (from chromadb) (1.37.0)\n",
      "Requirement already satisfied: tokenizers>=0.13.2 in c:\\users\\elwady\\miniconda3\\lib\\site-packages (from chromadb) (0.22.0)\n",
      "Requirement already satisfied: pypika>=0.48.9 in c:\\users\\elwady\\miniconda3\\lib\\site-packages (from chromadb) (0.48.9)\n",
      "Requirement already satisfied: overrides>=7.3.1 in c:\\users\\elwady\\miniconda3\\lib\\site-packages (from chromadb) (7.4.0)\n",
      "Requirement already satisfied: importlib-resources in c:\\users\\elwady\\miniconda3\\lib\\site-packages (from chromadb) (6.5.2)\n",
      "Requirement already satisfied: grpcio>=1.58.0 in c:\\users\\elwady\\miniconda3\\lib\\site-packages (from chromadb) (1.75.0)\n",
      "Requirement already satisfied: bcrypt>=4.0.1 in c:\\users\\elwady\\miniconda3\\lib\\site-packages (from chromadb) (4.3.0)\n",
      "Requirement already satisfied: typer>=0.9.0 in c:\\users\\elwady\\miniconda3\\lib\\site-packages (from chromadb) (0.17.4)\n",
      "Requirement already satisfied: kubernetes>=28.1.0 in c:\\users\\elwady\\miniconda3\\lib\\site-packages (from chromadb) (33.1.0)\n",
      "Requirement already satisfied: tenacity>=8.2.3 in c:\\users\\elwady\\miniconda3\\lib\\site-packages (from chromadb) (9.1.2)\n",
      "Requirement already satisfied: mmh3>=4.0.1 in c:\\users\\elwady\\miniconda3\\lib\\site-packages (from chromadb) (5.2.0)\n",
      "Requirement already satisfied: orjson>=3.9.12 in c:\\users\\elwady\\miniconda3\\lib\\site-packages (from chromadb) (3.11.3)\n",
      "Requirement already satisfied: rich>=10.11.0 in c:\\users\\elwady\\miniconda3\\lib\\site-packages (from chromadb) (14.1.0)\n",
      "Requirement already satisfied: jsonschema>=4.19.0 in c:\\users\\elwady\\miniconda3\\lib\\site-packages (from chromadb) (4.25.0)\n",
      "Requirement already satisfied: aiofiles<25.0,>=22.0 in c:\\users\\elwady\\miniconda3\\lib\\site-packages (from gradio) (24.1.0)\n",
      "Requirement already satisfied: brotli>=1.1.0 in c:\\users\\elwady\\miniconda3\\lib\\site-packages (from gradio) (1.1.0)\n",
      "Requirement already satisfied: fastapi<1.0,>=0.115.2 in c:\\users\\elwady\\miniconda3\\lib\\site-packages (from gradio) (0.116.1)\n",
      "Requirement already satisfied: ffmpy in c:\\users\\elwady\\miniconda3\\lib\\site-packages (from gradio) (0.6.1)\n",
      "Requirement already satisfied: gradio-client==1.13.0 in c:\\users\\elwady\\miniconda3\\lib\\site-packages (from gradio) (1.13.0)\n",
      "Requirement already satisfied: groovy~=0.1 in c:\\users\\elwady\\miniconda3\\lib\\site-packages (from gradio) (0.1.2)\n",
      "Requirement already satisfied: huggingface-hub<1.0,>=0.33.5 in c:\\users\\elwady\\miniconda3\\lib\\site-packages (from gradio) (0.34.4)\n",
      "Requirement already satisfied: jinja2<4.0 in c:\\users\\elwady\\miniconda3\\lib\\site-packages (from gradio) (3.1.6)\n",
      "Requirement already satisfied: markupsafe<4.0,>=2.0 in c:\\users\\elwady\\miniconda3\\lib\\site-packages (from gradio) (3.0.2)\n",
      "Requirement already satisfied: packaging in c:\\users\\elwady\\miniconda3\\lib\\site-packages (from gradio) (25.0)\n",
      "Requirement already satisfied: pandas<3.0,>=1.0 in c:\\users\\elwady\\miniconda3\\lib\\site-packages (from gradio) (2.3.2)\n",
      "Requirement already satisfied: pillow<12.0,>=8.0 in c:\\users\\elwady\\miniconda3\\lib\\site-packages (from gradio) (11.3.0)\n",
      "Requirement already satisfied: pydub in c:\\users\\elwady\\miniconda3\\lib\\site-packages (from gradio) (0.25.1)\n",
      "Requirement already satisfied: python-multipart>=0.0.18 in c:\\users\\elwady\\miniconda3\\lib\\site-packages (from gradio) (0.0.20)\n",
      "Requirement already satisfied: ruff>=0.9.3 in c:\\users\\elwady\\miniconda3\\lib\\site-packages (from gradio) (0.13.0)\n",
      "Requirement already satisfied: safehttpx<0.2.0,>=0.1.6 in c:\\users\\elwady\\miniconda3\\lib\\site-packages (from gradio) (0.1.6)\n",
      "Requirement already satisfied: semantic-version~=2.0 in c:\\users\\elwady\\miniconda3\\lib\\site-packages (from gradio) (2.10.0)\n",
      "Requirement already satisfied: starlette<1.0,>=0.40.0 in c:\\users\\elwady\\miniconda3\\lib\\site-packages (from gradio) (0.47.3)\n",
      "Requirement already satisfied: tomlkit<0.14.0,>=0.12.0 in c:\\users\\elwady\\miniconda3\\lib\\site-packages (from gradio) (0.13.3)\n",
      "Requirement already satisfied: fsspec in c:\\users\\elwady\\miniconda3\\lib\\site-packages (from gradio-client==1.13.0->gradio) (2025.9.0)\n",
      "Requirement already satisfied: websockets<16.0,>=10.0 in c:\\users\\elwady\\miniconda3\\lib\\site-packages (from gradio-client==1.13.0->gradio) (15.0.1)\n",
      "Requirement already satisfied: python-dotenv in c:\\users\\elwady\\miniconda3\\lib\\site-packages (from dotenv) (1.1.1)\n",
      "Requirement already satisfied: aiohttp<4.0.0,>=3.8.3 in c:\\users\\elwady\\miniconda3\\lib\\site-packages (from langchain-community) (3.12.15)\n",
      "Requirement already satisfied: dataclasses-json<0.7,>=0.6.7 in c:\\users\\elwady\\miniconda3\\lib\\site-packages (from langchain-community) (0.6.7)\n",
      "Requirement already satisfied: pydantic-settings<3.0.0,>=2.10.1 in c:\\users\\elwady\\miniconda3\\lib\\site-packages (from langchain-community) (2.10.1)\n",
      "Requirement already satisfied: httpx-sse<1.0.0,>=0.4.0 in c:\\users\\elwady\\miniconda3\\lib\\site-packages (from langchain-community) (0.4.1)\n",
      "Requirement already satisfied: aiohappyeyeballs>=2.5.0 in c:\\users\\elwady\\miniconda3\\lib\\site-packages (from aiohttp<4.0.0,>=3.8.3->langchain-community) (2.6.1)\n",
      "Requirement already satisfied: aiosignal>=1.4.0 in c:\\users\\elwady\\miniconda3\\lib\\site-packages (from aiohttp<4.0.0,>=3.8.3->langchain-community) (1.4.0)\n",
      "Requirement already satisfied: attrs>=17.3.0 in c:\\users\\elwady\\miniconda3\\lib\\site-packages (from aiohttp<4.0.0,>=3.8.3->langchain-community) (24.3.0)\n",
      "Requirement already satisfied: frozenlist>=1.1.1 in c:\\users\\elwady\\miniconda3\\lib\\site-packages (from aiohttp<4.0.0,>=3.8.3->langchain-community) (1.7.0)\n",
      "Requirement already satisfied: multidict<7.0,>=4.5 in c:\\users\\elwady\\miniconda3\\lib\\site-packages (from aiohttp<4.0.0,>=3.8.3->langchain-community) (6.6.4)\n",
      "Requirement already satisfied: propcache>=0.2.0 in c:\\users\\elwady\\miniconda3\\lib\\site-packages (from aiohttp<4.0.0,>=3.8.3->langchain-community) (0.3.2)\n",
      "Requirement already satisfied: yarl<2.0,>=1.17.0 in c:\\users\\elwady\\miniconda3\\lib\\site-packages (from aiohttp<4.0.0,>=3.8.3->langchain-community) (1.20.1)\n",
      "Requirement already satisfied: idna>=2.8 in c:\\users\\elwady\\miniconda3\\lib\\site-packages (from anyio<5,>=3.5.0->openai) (3.7)\n",
      "Requirement already satisfied: pyproject_hooks in c:\\users\\elwady\\miniconda3\\lib\\site-packages (from build>=1.0.3->chromadb) (1.2.0)\n",
      "Requirement already satisfied: colorama in c:\\users\\elwady\\miniconda3\\lib\\site-packages (from build>=1.0.3->chromadb) (0.4.6)\n",
      "Requirement already satisfied: marshmallow<4.0.0,>=3.18.0 in c:\\users\\elwady\\miniconda3\\lib\\site-packages (from dataclasses-json<0.7,>=0.6.7->langchain-community) (3.26.1)\n",
      "Requirement already satisfied: typing-inspect<1,>=0.4.0 in c:\\users\\elwady\\miniconda3\\lib\\site-packages (from dataclasses-json<0.7,>=0.6.7->langchain-community) (0.9.0)\n",
      "Requirement already satisfied: certifi in c:\\users\\elwady\\miniconda3\\lib\\site-packages (from httpx<1,>=0.23.0->openai) (2025.8.3)\n",
      "Requirement already satisfied: httpcore==1.* in c:\\users\\elwady\\miniconda3\\lib\\site-packages (from httpx<1,>=0.23.0->openai) (1.0.9)\n",
      "Requirement already satisfied: h11>=0.16 in c:\\users\\elwady\\miniconda3\\lib\\site-packages (from httpcore==1.*->httpx<1,>=0.23.0->openai) (0.16.0)\n",
      "Requirement already satisfied: filelock in c:\\users\\elwady\\miniconda3\\lib\\site-packages (from huggingface-hub<1.0,>=0.33.5->gradio) (3.19.1)\n",
      "Requirement already satisfied: jsonschema-specifications>=2023.03.6 in c:\\users\\elwady\\miniconda3\\lib\\site-packages (from jsonschema>=4.19.0->chromadb) (2023.7.1)\n",
      "Requirement already satisfied: referencing>=0.28.4 in c:\\users\\elwady\\miniconda3\\lib\\site-packages (from jsonschema>=4.19.0->chromadb) (0.30.2)\n",
      "Requirement already satisfied: rpds-py>=0.7.1 in c:\\users\\elwady\\miniconda3\\lib\\site-packages (from jsonschema>=4.19.0->chromadb) (0.22.3)\n",
      "Requirement already satisfied: six>=1.9.0 in c:\\users\\elwady\\miniconda3\\lib\\site-packages (from kubernetes>=28.1.0->chromadb) (1.17.0)\n",
      "Requirement already satisfied: python-dateutil>=2.5.3 in c:\\users\\elwady\\miniconda3\\lib\\site-packages (from kubernetes>=28.1.0->chromadb) (2.9.0.post0)\n",
      "Requirement already satisfied: google-auth>=1.0.1 in c:\\users\\elwady\\miniconda3\\lib\\site-packages (from kubernetes>=28.1.0->chromadb) (2.40.3)\n",
      "Requirement already satisfied: websocket-client!=0.40.0,!=0.41.*,!=0.42.*,>=0.32.0 in c:\\users\\elwady\\miniconda3\\lib\\site-packages (from kubernetes>=28.1.0->chromadb) (1.8.0)\n",
      "Requirement already satisfied: requests-oauthlib in c:\\users\\elwady\\miniconda3\\lib\\site-packages (from kubernetes>=28.1.0->chromadb) (2.0.0)\n",
      "Requirement already satisfied: oauthlib>=3.2.2 in c:\\users\\elwady\\miniconda3\\lib\\site-packages (from kubernetes>=28.1.0->chromadb) (3.3.1)\n",
      "Requirement already satisfied: urllib3>=1.24.2 in c:\\users\\elwady\\miniconda3\\lib\\site-packages (from kubernetes>=28.1.0->chromadb) (2.2.3)\n",
      "Requirement already satisfied: durationpy>=0.7 in c:\\users\\elwady\\miniconda3\\lib\\site-packages (from kubernetes>=28.1.0->chromadb) (0.10)\n",
      "Requirement already satisfied: jsonpatch<2.0,>=1.33 in c:\\users\\elwady\\miniconda3\\lib\\site-packages (from langchain-core<1.0.0,>=0.3.72->langchain) (1.33)\n",
      "Requirement already satisfied: requests-toolbelt>=1.0.0 in c:\\users\\elwady\\miniconda3\\lib\\site-packages (from langsmith>=0.1.17->langchain) (1.0.0)\n",
      "Requirement already satisfied: zstandard>=0.23.0 in c:\\users\\elwady\\miniconda3\\lib\\site-packages (from langsmith>=0.1.17->langchain) (0.23.0)\n",
      "Requirement already satisfied: coloredlogs in c:\\users\\elwady\\miniconda3\\lib\\site-packages (from onnxruntime>=1.14.1->chromadb) (15.0.1)\n",
      "Requirement already satisfied: flatbuffers in c:\\users\\elwady\\miniconda3\\lib\\site-packages (from onnxruntime>=1.14.1->chromadb) (25.2.10)\n",
      "Requirement already satisfied: protobuf in c:\\users\\elwady\\miniconda3\\lib\\site-packages (from onnxruntime>=1.14.1->chromadb) (5.29.5)\n",
      "Requirement already satisfied: sympy in c:\\users\\elwady\\miniconda3\\lib\\site-packages (from onnxruntime>=1.14.1->chromadb) (1.14.0)\n",
      "Requirement already satisfied: importlib-metadata<8.8.0,>=6.0 in c:\\users\\elwady\\miniconda3\\lib\\site-packages (from opentelemetry-api>=1.2.0->chromadb) (8.7.0)\n",
      "Requirement already satisfied: googleapis-common-protos~=1.57 in c:\\users\\elwady\\miniconda3\\lib\\site-packages (from opentelemetry-exporter-otlp-proto-grpc>=1.2.0->chromadb) (1.70.0)\n",
      "Requirement already satisfied: opentelemetry-exporter-otlp-proto-common==1.37.0 in c:\\users\\elwady\\miniconda3\\lib\\site-packages (from opentelemetry-exporter-otlp-proto-grpc>=1.2.0->chromadb) (1.37.0)\n",
      "Requirement already satisfied: opentelemetry-proto==1.37.0 in c:\\users\\elwady\\miniconda3\\lib\\site-packages (from opentelemetry-exporter-otlp-proto-grpc>=1.2.0->chromadb) (1.37.0)\n",
      "Requirement already satisfied: opentelemetry-semantic-conventions==0.58b0 in c:\\users\\elwady\\miniconda3\\lib\\site-packages (from opentelemetry-sdk>=1.2.0->chromadb) (0.58b0)\n",
      "Requirement already satisfied: pytz>=2020.1 in c:\\users\\elwady\\miniconda3\\lib\\site-packages (from pandas<3.0,>=1.0->gradio) (2025.2)\n",
      "Requirement already satisfied: tzdata>=2022.7 in c:\\users\\elwady\\miniconda3\\lib\\site-packages (from pandas<3.0,>=1.0->gradio) (2025.2)\n",
      "Requirement already satisfied: backoff>=1.10.0 in c:\\users\\elwady\\miniconda3\\lib\\site-packages (from posthog<6.0.0,>=2.4.0->chromadb) (2.2.1)\n",
      "Requirement already satisfied: annotated-types>=0.6.0 in c:\\users\\elwady\\miniconda3\\lib\\site-packages (from pydantic<3.0.0,>=2.7.4->langchain) (0.7.0)\n",
      "Requirement already satisfied: pydantic-core==2.33.2 in c:\\users\\elwady\\miniconda3\\lib\\site-packages (from pydantic<3.0.0,>=2.7.4->langchain) (2.33.2)\n",
      "Requirement already satisfied: typing-inspection>=0.4.0 in c:\\users\\elwady\\miniconda3\\lib\\site-packages (from pydantic<3.0.0,>=2.7.4->langchain) (0.4.1)\n",
      "Requirement already satisfied: charset_normalizer<4,>=2 in c:\\users\\elwady\\miniconda3\\lib\\site-packages (from requests<3,>=2->langchain) (3.3.2)\n",
      "Requirement already satisfied: markdown-it-py>=2.2.0 in c:\\users\\elwady\\miniconda3\\lib\\site-packages (from rich>=10.11.0->chromadb) (4.0.0)\n",
      "Requirement already satisfied: pygments<3.0.0,>=2.13.0 in c:\\users\\elwady\\miniconda3\\lib\\site-packages (from rich>=10.11.0->chromadb) (2.19.1)\n",
      "Requirement already satisfied: greenlet>=1 in c:\\users\\elwady\\miniconda3\\lib\\site-packages (from SQLAlchemy<3,>=1.4->langchain) (3.2.4)\n",
      "Requirement already satisfied: regex>=2022.1.18 in c:\\users\\elwady\\miniconda3\\lib\\site-packages (from tiktoken<1,>=0.7->langchain-openai) (2025.9.1)\n",
      "Requirement already satisfied: click>=8.0.0 in c:\\users\\elwady\\miniconda3\\lib\\site-packages (from typer>=0.9.0->chromadb) (8.2.1)\n",
      "Requirement already satisfied: shellingham>=1.3.0 in c:\\users\\elwady\\miniconda3\\lib\\site-packages (from typer>=0.9.0->chromadb) (1.5.4)\n",
      "Requirement already satisfied: httptools>=0.6.3 in c:\\users\\elwady\\miniconda3\\lib\\site-packages (from uvicorn[standard]>=0.18.3->chromadb) (0.6.4)\n",
      "Requirement already satisfied: watchfiles>=0.13 in c:\\users\\elwady\\miniconda3\\lib\\site-packages (from uvicorn[standard]>=0.18.3->chromadb) (1.1.0)\n",
      "Requirement already satisfied: cachetools<6.0,>=2.0.0 in c:\\users\\elwady\\miniconda3\\lib\\site-packages (from google-auth>=1.0.1->kubernetes>=28.1.0->chromadb) (5.5.2)\n",
      "Requirement already satisfied: pyasn1-modules>=0.2.1 in c:\\users\\elwady\\miniconda3\\lib\\site-packages (from google-auth>=1.0.1->kubernetes>=28.1.0->chromadb) (0.4.2)\n",
      "Requirement already satisfied: rsa<5,>=3.1.4 in c:\\users\\elwady\\miniconda3\\lib\\site-packages (from google-auth>=1.0.1->kubernetes>=28.1.0->chromadb) (4.9.1)\n",
      "Requirement already satisfied: zipp>=3.20 in c:\\users\\elwady\\miniconda3\\lib\\site-packages (from importlib-metadata<8.8.0,>=6.0->opentelemetry-api>=1.2.0->chromadb) (3.23.0)\n",
      "Requirement already satisfied: jsonpointer>=1.9 in c:\\users\\elwady\\miniconda3\\lib\\site-packages (from jsonpatch<2.0,>=1.33->langchain-core<1.0.0,>=0.3.72->langchain) (2.1)\n",
      "Requirement already satisfied: mdurl~=0.1 in c:\\users\\elwady\\miniconda3\\lib\\site-packages (from markdown-it-py>=2.2.0->rich>=10.11.0->chromadb) (0.1.2)\n",
      "Requirement already satisfied: mypy-extensions>=0.3.0 in c:\\users\\elwady\\miniconda3\\lib\\site-packages (from typing-inspect<1,>=0.4.0->dataclasses-json<0.7,>=0.6.7->langchain-community) (1.1.0)\n",
      "Requirement already satisfied: humanfriendly>=9.1 in c:\\users\\elwady\\miniconda3\\lib\\site-packages (from coloredlogs->onnxruntime>=1.14.1->chromadb) (10.0)\n",
      "Requirement already satisfied: mpmath<1.4,>=1.1.0 in c:\\users\\elwady\\miniconda3\\lib\\site-packages (from sympy->onnxruntime>=1.14.1->chromadb) (1.3.0)\n",
      "Requirement already satisfied: pyreadline3 in c:\\users\\elwady\\miniconda3\\lib\\site-packages (from humanfriendly>=9.1->coloredlogs->onnxruntime>=1.14.1->chromadb) (3.5.4)\n",
      "Requirement already satisfied: pyasn1<0.7.0,>=0.6.1 in c:\\users\\elwady\\miniconda3\\lib\\site-packages (from pyasn1-modules>=0.2.1->google-auth>=1.0.1->kubernetes>=28.1.0->chromadb) (0.6.1)\n",
      "loaded successfully\n"
     ]
    }
   ],
   "source": [
    "!pip install langchain langchain-openai openai  chromadb gradio dotenv  langchain-community\n",
    "print(\"loaded successfully\")"
   ]
  },
  {
   "cell_type": "code",
   "execution_count": 3,
   "id": "0258d999-88aa-4aa9-9a02-d17c7cefba5c",
   "metadata": {},
   "outputs": [
    {
     "name": "stdout",
     "output_type": "stream",
     "text": [
      "Requirement already satisfied: openai in c:\\users\\elwady\\miniconda3\\lib\\site-packages (1.108.0)\n",
      "Collecting openai\n",
      "  Downloading openai-1.108.1-py3-none-any.whl.metadata (29 kB)\n",
      "Requirement already satisfied: anyio<5,>=3.5.0 in c:\\users\\elwady\\miniconda3\\lib\\site-packages (from openai) (4.10.0)\n",
      "Requirement already satisfied: distro<2,>=1.7.0 in c:\\users\\elwady\\miniconda3\\lib\\site-packages (from openai) (1.9.0)\n",
      "Requirement already satisfied: httpx<1,>=0.23.0 in c:\\users\\elwady\\miniconda3\\lib\\site-packages (from openai) (0.28.1)\n",
      "Requirement already satisfied: jiter<1,>=0.4.0 in c:\\users\\elwady\\miniconda3\\lib\\site-packages (from openai) (0.10.0)\n",
      "Requirement already satisfied: pydantic<3,>=1.9.0 in c:\\users\\elwady\\miniconda3\\lib\\site-packages (from openai) (2.11.9)\n",
      "Requirement already satisfied: sniffio in c:\\users\\elwady\\miniconda3\\lib\\site-packages (from openai) (1.3.0)\n",
      "Requirement already satisfied: tqdm>4 in c:\\users\\elwady\\miniconda3\\lib\\site-packages (from openai) (4.66.5)\n",
      "Requirement already satisfied: typing-extensions<5,>=4.11 in c:\\users\\elwady\\miniconda3\\lib\\site-packages (from openai) (4.15.0)\n",
      "Requirement already satisfied: idna>=2.8 in c:\\users\\elwady\\miniconda3\\lib\\site-packages (from anyio<5,>=3.5.0->openai) (3.7)\n",
      "Requirement already satisfied: certifi in c:\\users\\elwady\\miniconda3\\lib\\site-packages (from httpx<1,>=0.23.0->openai) (2025.8.3)\n",
      "Requirement already satisfied: httpcore==1.* in c:\\users\\elwady\\miniconda3\\lib\\site-packages (from httpx<1,>=0.23.0->openai) (1.0.9)\n",
      "Requirement already satisfied: h11>=0.16 in c:\\users\\elwady\\miniconda3\\lib\\site-packages (from httpcore==1.*->httpx<1,>=0.23.0->openai) (0.16.0)\n",
      "Requirement already satisfied: annotated-types>=0.6.0 in c:\\users\\elwady\\miniconda3\\lib\\site-packages (from pydantic<3,>=1.9.0->openai) (0.7.0)\n",
      "Requirement already satisfied: pydantic-core==2.33.2 in c:\\users\\elwady\\miniconda3\\lib\\site-packages (from pydantic<3,>=1.9.0->openai) (2.33.2)\n",
      "Requirement already satisfied: typing-inspection>=0.4.0 in c:\\users\\elwady\\miniconda3\\lib\\site-packages (from pydantic<3,>=1.9.0->openai) (0.4.1)\n",
      "Requirement already satisfied: colorama in c:\\users\\elwady\\miniconda3\\lib\\site-packages (from tqdm>4->openai) (0.4.6)\n",
      "Downloading openai-1.108.1-py3-none-any.whl (948 kB)\n",
      "   ---------------------------------------- 0.0/948.4 kB ? eta -:--:--\n",
      "   ----------- ---------------------------- 262.1/948.4 kB ? eta -:--:--\n",
      "   ---------------------- ----------------- 524.3/948.4 kB 1.9 MB/s eta 0:00:01\n",
      "   ---------------------------------------- 948.4/948.4 kB 1.7 MB/s eta 0:00:00\n",
      "Installing collected packages: openai\n",
      "  Attempting uninstall: openai\n",
      "    Found existing installation: openai 1.108.0\n",
      "    Uninstalling openai-1.108.0:\n",
      "      Successfully uninstalled openai-1.108.0\n",
      "Successfully installed openai-1.108.1\n",
      "first 5 chars  {'sk-or'}\n"
     ]
    }
   ],
   "source": [
    "!pip install --upgrade openai\n",
    "import os\n",
    "from openai import OpenAI\n",
    "from dotenv import load_dotenv\n",
    "load_dotenv()\n",
    "openai_api_key=os.getenv(\"OPENAI_API_KEY\")\n",
    "openai_client=OpenAI(api_key=openai_api_key,base_url=\"https://openrouter.ai/api/v1\")\n",
    "print(\"first 5 chars \",{openai_api_key[:5]})"
   ]
  },
  {
   "cell_type": "code",
   "execution_count": 4,
   "id": "e596de72-5de4-4573-935a-e8b778c7bd7d",
   "metadata": {},
   "outputs": [
    {
     "name": "stderr",
     "output_type": "stream",
     "text": [
      "C:\\Users\\elwady\\MiniConda3\\Lib\\site-packages\\tqdm\\auto.py:21: TqdmWarning: IProgress not found. Please update jupyter and ipywidgets. See https://ipywidgets.readthedocs.io/en/stable/user_install.html\n",
      "  from .autonotebook import tqdm as notebook_tqdm\n"
     ]
    }
   ],
   "source": [
    "#load langchain components\n",
    "from langchain_openai import OpenAIEmbeddings,OpenAI\n",
    "from langchain.vectorstores import Chroma\n",
    "from langchain.text_splitter import RecursiveCharacterTextSplitter\n",
    "from langchain.document_loaders import TextLoader\n",
    "from langchain.chains import RetrievalQAWithSourcesChain "
   ]
  },
  {
   "cell_type": "code",
   "execution_count": 5,
   "id": "a489cfa4-602c-4b13-9bc7-ff2bb7108639",
   "metadata": {},
   "outputs": [
    {
     "name": "stdout",
     "output_type": "stream",
     "text": [
      "file path-> eleven_madison_park_data.txt\n"
     ]
    }
   ],
   "source": [
    "DATA_FILE_PATH=\"eleven_madison_park_data.txt\"\n",
    "print(f\"file path-> {DATA_FILE_PATH}\")"
   ]
  },
  {
   "cell_type": "code",
   "execution_count": 6,
   "id": "a5c33c39-c3e7-40de-81dc-96c959e58c31",
   "metadata": {},
   "outputs": [
    {
     "name": "stdout",
     "output_type": "stream",
     "text": [
      "loaded successfully 1 document\n"
     ]
    }
   ],
   "source": [
    "loader=TextLoader(DATA_FILE_PATH,encoding=\"utf-8\")\n",
    "raw_document=loader.load()\n",
    "print(f\"loaded successfully {len(raw_document)} document\")"
   ]
  },
  {
   "cell_type": "code",
   "execution_count": 7,
   "id": "ece8591d-6e50-4419-b70b-25c34c6f243a",
   "metadata": {},
   "outputs": [
    {
     "name": "stdout",
     "output_type": "stream",
     "text": [
      ", on October 1st, all of November will be made available. If you find that the reservation you were hoping for is booked, we do hold a waitlist and encourage you to add your name to it, and if something does become available, we will be in touch. Please contact careers@elevenmadisonpark.com or visit Culinary Agents . To stay up to date about future Eleven Madison Park news and events, please sign up for our Newsletter . Please contact events@elevenmadisonpark.com Please contact press@elevenmadisonpark.com Thank you for thinking of Eleven Madison Park for your inquiry. At this time, all of our non-profit efforts are focused on our partnership with Rethink Food . Email: info@elevenmadisonpark.com Phone: 212.889.0905 Ext. 3\n",
      "---END OF SOURCE---...\n"
     ]
    }
   ],
   "source": [
    "print(f\"{raw_document[0].page_content[-750:] + \"...\" }\")"
   ]
  },
  {
   "cell_type": "code",
   "execution_count": 8,
   "id": "7cc7f5bb-0ff7-411a-91d5-023ae199732a",
   "metadata": {},
   "outputs": [
    {
     "name": "stdout",
     "output_type": "stream",
     "text": [
      "document split int 38 chunks\n"
     ]
    }
   ],
   "source": [
    "#split the document into chunks\n",
    "text_splitter=RecursiveCharacterTextSplitter(chunk_size=1000,chunk_overlap=150)\n",
    "documents=text_splitter.split_documents(raw_document)\n",
    "if not documents:\n",
    "    raise ValueError(\"Error: Splitting resulted in zero documents. Check the input file and splitter settings.\")\n",
    "print(f\"document split int {len(documents)} chunks\")"
   ]
  },
  {
   "cell_type": "code",
   "execution_count": 9,
   "id": "ca25119d-c0c6-4313-a68d-0979ca0e730d",
   "metadata": {},
   "outputs": [
    {
     "name": "stdout",
     "output_type": "stream",
     "text": [
      "documet content..\n",
      "Source: https://www.elevenmadisonpark.com/\n",
      "Title: Eleven Madison Park\n",
      "Content:\n",
      "Book on Resy\n",
      "---END OF SOURCE---\n",
      "metadata...\n",
      "{'source': 'eleven_madison_park_data.txt'}\n"
     ]
    }
   ],
   "source": [
    "print(\"documet content..\")\n",
    "print(documents[0].page_content)\n",
    "print(\"metadata...\")\n",
    "print(documents[0].metadata)      \n"
   ]
  },
  {
   "cell_type": "code",
   "execution_count": 10,
   "id": "aff555c6-1060-455c-9b23-548a188a1b2c",
   "metadata": {},
   "outputs": [
    {
     "name": "stdout",
     "output_type": "stream",
     "text": [
      "Requirement already satisfied: sentence-transformers in c:\\users\\elwady\\miniconda3\\lib\\site-packages (5.1.0)\n",
      "Collecting sentence-transformers\n",
      "  Downloading sentence_transformers-5.1.1-py3-none-any.whl.metadata (16 kB)\n",
      "Requirement already satisfied: langchain-huggingface in c:\\users\\elwady\\miniconda3\\lib\\site-packages (0.3.1)\n",
      "Requirement already satisfied: transformers<5.0.0,>=4.41.0 in c:\\users\\elwady\\miniconda3\\lib\\site-packages (from sentence-transformers) (4.56.1)\n",
      "Requirement already satisfied: tqdm in c:\\users\\elwady\\miniconda3\\lib\\site-packages (from sentence-transformers) (4.66.5)\n",
      "Requirement already satisfied: torch>=1.11.0 in c:\\users\\elwady\\miniconda3\\lib\\site-packages (from sentence-transformers) (2.8.0)\n",
      "Requirement already satisfied: scikit-learn in c:\\users\\elwady\\miniconda3\\lib\\site-packages (from sentence-transformers) (1.7.2)\n",
      "Requirement already satisfied: scipy in c:\\users\\elwady\\miniconda3\\lib\\site-packages (from sentence-transformers) (1.16.2)\n",
      "Requirement already satisfied: huggingface-hub>=0.20.0 in c:\\users\\elwady\\miniconda3\\lib\\site-packages (from sentence-transformers) (0.34.4)\n",
      "Requirement already satisfied: Pillow in c:\\users\\elwady\\miniconda3\\lib\\site-packages (from sentence-transformers) (11.3.0)\n",
      "Requirement already satisfied: typing_extensions>=4.5.0 in c:\\users\\elwady\\miniconda3\\lib\\site-packages (from sentence-transformers) (4.15.0)\n",
      "Requirement already satisfied: langchain-core<1.0.0,>=0.3.70 in c:\\users\\elwady\\miniconda3\\lib\\site-packages (from langchain-huggingface) (0.3.76)\n",
      "Requirement already satisfied: tokenizers>=0.19.1 in c:\\users\\elwady\\miniconda3\\lib\\site-packages (from langchain-huggingface) (0.22.0)\n",
      "Requirement already satisfied: filelock in c:\\users\\elwady\\miniconda3\\lib\\site-packages (from huggingface-hub>=0.20.0->sentence-transformers) (3.19.1)\n",
      "Requirement already satisfied: fsspec>=2023.5.0 in c:\\users\\elwady\\miniconda3\\lib\\site-packages (from huggingface-hub>=0.20.0->sentence-transformers) (2025.9.0)\n",
      "Requirement already satisfied: packaging>=20.9 in c:\\users\\elwady\\miniconda3\\lib\\site-packages (from huggingface-hub>=0.20.0->sentence-transformers) (25.0)\n",
      "Requirement already satisfied: pyyaml>=5.1 in c:\\users\\elwady\\miniconda3\\lib\\site-packages (from huggingface-hub>=0.20.0->sentence-transformers) (6.0.2)\n",
      "Requirement already satisfied: requests in c:\\users\\elwady\\miniconda3\\lib\\site-packages (from huggingface-hub>=0.20.0->sentence-transformers) (2.32.5)\n",
      "Requirement already satisfied: langsmith>=0.3.45 in c:\\users\\elwady\\miniconda3\\lib\\site-packages (from langchain-core<1.0.0,>=0.3.70->langchain-huggingface) (0.4.28)\n",
      "Requirement already satisfied: tenacity!=8.4.0,<10.0.0,>=8.1.0 in c:\\users\\elwady\\miniconda3\\lib\\site-packages (from langchain-core<1.0.0,>=0.3.70->langchain-huggingface) (9.1.2)\n",
      "Requirement already satisfied: jsonpatch<2.0,>=1.33 in c:\\users\\elwady\\miniconda3\\lib\\site-packages (from langchain-core<1.0.0,>=0.3.70->langchain-huggingface) (1.33)\n",
      "Requirement already satisfied: pydantic>=2.7.4 in c:\\users\\elwady\\miniconda3\\lib\\site-packages (from langchain-core<1.0.0,>=0.3.70->langchain-huggingface) (2.11.9)\n",
      "Requirement already satisfied: sympy>=1.13.3 in c:\\users\\elwady\\miniconda3\\lib\\site-packages (from torch>=1.11.0->sentence-transformers) (1.14.0)\n",
      "Requirement already satisfied: networkx in c:\\users\\elwady\\miniconda3\\lib\\site-packages (from torch>=1.11.0->sentence-transformers) (3.5)\n",
      "Requirement already satisfied: jinja2 in c:\\users\\elwady\\miniconda3\\lib\\site-packages (from torch>=1.11.0->sentence-transformers) (3.1.6)\n",
      "Requirement already satisfied: setuptools in c:\\users\\elwady\\miniconda3\\lib\\site-packages (from torch>=1.11.0->sentence-transformers) (75.1.0)\n",
      "Requirement already satisfied: colorama in c:\\users\\elwady\\miniconda3\\lib\\site-packages (from tqdm->sentence-transformers) (0.4.6)\n",
      "Requirement already satisfied: numpy>=1.17 in c:\\users\\elwady\\miniconda3\\lib\\site-packages (from transformers<5.0.0,>=4.41.0->sentence-transformers) (2.3.3)\n",
      "Requirement already satisfied: regex!=2019.12.17 in c:\\users\\elwady\\miniconda3\\lib\\site-packages (from transformers<5.0.0,>=4.41.0->sentence-transformers) (2025.9.1)\n",
      "Requirement already satisfied: safetensors>=0.4.3 in c:\\users\\elwady\\miniconda3\\lib\\site-packages (from transformers<5.0.0,>=4.41.0->sentence-transformers) (0.6.2)\n",
      "Requirement already satisfied: joblib>=1.2.0 in c:\\users\\elwady\\miniconda3\\lib\\site-packages (from scikit-learn->sentence-transformers) (1.5.2)\n",
      "Requirement already satisfied: threadpoolctl>=3.1.0 in c:\\users\\elwady\\miniconda3\\lib\\site-packages (from scikit-learn->sentence-transformers) (3.6.0)\n",
      "Requirement already satisfied: jsonpointer>=1.9 in c:\\users\\elwady\\miniconda3\\lib\\site-packages (from jsonpatch<2.0,>=1.33->langchain-core<1.0.0,>=0.3.70->langchain-huggingface) (2.1)\n",
      "Requirement already satisfied: httpx<1,>=0.23.0 in c:\\users\\elwady\\miniconda3\\lib\\site-packages (from langsmith>=0.3.45->langchain-core<1.0.0,>=0.3.70->langchain-huggingface) (0.28.1)\n",
      "Requirement already satisfied: orjson>=3.9.14 in c:\\users\\elwady\\miniconda3\\lib\\site-packages (from langsmith>=0.3.45->langchain-core<1.0.0,>=0.3.70->langchain-huggingface) (3.11.3)\n",
      "Requirement already satisfied: requests-toolbelt>=1.0.0 in c:\\users\\elwady\\miniconda3\\lib\\site-packages (from langsmith>=0.3.45->langchain-core<1.0.0,>=0.3.70->langchain-huggingface) (1.0.0)\n",
      "Requirement already satisfied: zstandard>=0.23.0 in c:\\users\\elwady\\miniconda3\\lib\\site-packages (from langsmith>=0.3.45->langchain-core<1.0.0,>=0.3.70->langchain-huggingface) (0.23.0)\n",
      "Requirement already satisfied: annotated-types>=0.6.0 in c:\\users\\elwady\\miniconda3\\lib\\site-packages (from pydantic>=2.7.4->langchain-core<1.0.0,>=0.3.70->langchain-huggingface) (0.7.0)\n",
      "Requirement already satisfied: pydantic-core==2.33.2 in c:\\users\\elwady\\miniconda3\\lib\\site-packages (from pydantic>=2.7.4->langchain-core<1.0.0,>=0.3.70->langchain-huggingface) (2.33.2)\n",
      "Requirement already satisfied: typing-inspection>=0.4.0 in c:\\users\\elwady\\miniconda3\\lib\\site-packages (from pydantic>=2.7.4->langchain-core<1.0.0,>=0.3.70->langchain-huggingface) (0.4.1)\n",
      "Requirement already satisfied: charset_normalizer<4,>=2 in c:\\users\\elwady\\miniconda3\\lib\\site-packages (from requests->huggingface-hub>=0.20.0->sentence-transformers) (3.3.2)\n",
      "Requirement already satisfied: idna<4,>=2.5 in c:\\users\\elwady\\miniconda3\\lib\\site-packages (from requests->huggingface-hub>=0.20.0->sentence-transformers) (3.7)\n",
      "Requirement already satisfied: urllib3<3,>=1.21.1 in c:\\users\\elwady\\miniconda3\\lib\\site-packages (from requests->huggingface-hub>=0.20.0->sentence-transformers) (2.2.3)\n",
      "Requirement already satisfied: certifi>=2017.4.17 in c:\\users\\elwady\\miniconda3\\lib\\site-packages (from requests->huggingface-hub>=0.20.0->sentence-transformers) (2025.8.3)\n",
      "Requirement already satisfied: mpmath<1.4,>=1.1.0 in c:\\users\\elwady\\miniconda3\\lib\\site-packages (from sympy>=1.13.3->torch>=1.11.0->sentence-transformers) (1.3.0)\n",
      "Requirement already satisfied: MarkupSafe>=2.0 in c:\\users\\elwady\\miniconda3\\lib\\site-packages (from jinja2->torch>=1.11.0->sentence-transformers) (3.0.2)\n",
      "Requirement already satisfied: anyio in c:\\users\\elwady\\miniconda3\\lib\\site-packages (from httpx<1,>=0.23.0->langsmith>=0.3.45->langchain-core<1.0.0,>=0.3.70->langchain-huggingface) (4.10.0)\n",
      "Requirement already satisfied: httpcore==1.* in c:\\users\\elwady\\miniconda3\\lib\\site-packages (from httpx<1,>=0.23.0->langsmith>=0.3.45->langchain-core<1.0.0,>=0.3.70->langchain-huggingface) (1.0.9)\n",
      "Requirement already satisfied: h11>=0.16 in c:\\users\\elwady\\miniconda3\\lib\\site-packages (from httpcore==1.*->httpx<1,>=0.23.0->langsmith>=0.3.45->langchain-core<1.0.0,>=0.3.70->langchain-huggingface) (0.16.0)\n",
      "Requirement already satisfied: sniffio>=1.1 in c:\\users\\elwady\\miniconda3\\lib\\site-packages (from anyio->httpx<1,>=0.23.0->langsmith>=0.3.45->langchain-core<1.0.0,>=0.3.70->langchain-huggingface) (1.3.0)\n",
      "Downloading sentence_transformers-5.1.1-py3-none-any.whl (486 kB)\n",
      "Installing collected packages: sentence-transformers\n",
      "  Attempting uninstall: sentence-transformers\n",
      "    Found existing installation: sentence-transformers 5.1.0\n",
      "    Uninstalling sentence-transformers-5.1.0:\n",
      "      Successfully uninstalled sentence-transformers-5.1.0\n",
      "Successfully installed sentence-transformers-5.1.1\n"
     ]
    },
    {
     "name": "stderr",
     "output_type": "stream",
     "text": [
      "C:\\Users\\elwady\\AppData\\Local\\Temp\\ipykernel_20932\\1902706906.py:6: LangChainDeprecationWarning: The class `HuggingFaceEmbeddings` was deprecated in LangChain 0.2.2 and will be removed in 1.0. An updated version of the class exists in the :class:`~langchain-huggingface package and should be used instead. To use it run `pip install -U :class:`~langchain-huggingface` and import as `from :class:`~langchain_huggingface import HuggingFaceEmbeddings``.\n",
      "  embeddings = HuggingFaceEmbeddings(model_name=\"sentence-transformers/all-MiniLM-L6-v2\")\n"
     ]
    },
    {
     "name": "stdout",
     "output_type": "stream",
     "text": [
      "Vector store created with 38 items\n"
     ]
    }
   ],
   "source": [
    "!pip install -U sentence-transformers langchain-huggingface\n",
    "\n",
    "from langchain_community.embeddings import HuggingFaceEmbeddings\n",
    "\n",
    "# pick one of the models above\n",
    "embeddings = HuggingFaceEmbeddings(model_name=\"sentence-transformers/all-MiniLM-L6-v2\")\n",
    "\n",
    "vector_store = Chroma.from_documents(documents=documents, embedding=embeddings)\n",
    "\n",
    "print(\"Vector store created with\", vector_store._collection.count(), \"items\")"
   ]
  },
  {
   "cell_type": "code",
   "execution_count": 11,
   "id": "ce3b4471-3fc5-45e9-873d-eb0c15635d59",
   "metadata": {},
   "outputs": [
    {
     "name": "stdout",
     "output_type": "stream",
     "text": [
      "First chunk text:\n",
      " Source: https://www.elevenmadisonpark.com/\n",
      "Title: Eleven Madison Park\n",
      "Content:\n",
      "Book on Resy\n",
      "---END OF SOURCE---\n",
      "\n",
      "Embedding vector:\n",
      " [-2.90016439e-02 -6.03913404e-02  2.20067874e-02 -1.34712644e-02\n",
      "  2.34959889e-02  7.93945193e-02  4.54231799e-02 -1.66562721e-02\n",
      " -3.57321054e-02  4.64659594e-02 -4.94946688e-02  9.23847482e-02\n",
      "  1.55326352e-02 -1.20987622e-02 -4.72648852e-02  1.74570568e-02\n",
      "  7.32015297e-02  7.89159983e-02 -1.59301031e-02 -2.90575717e-03\n",
      "  8.87777209e-02  1.82440169e-02  2.59796213e-02 -1.75921638e-02\n",
      " -7.59837450e-03 -2.64163595e-02 -1.12898797e-01  4.02005278e-02\n",
      " -5.09870872e-02 -1.12363845e-02 -2.78260484e-02  7.42891431e-02\n",
      " -1.47451730e-02 -6.49156570e-02  6.97237924e-02  3.02265231e-02\n",
      "  4.53479700e-02 -1.69542618e-02  7.08831921e-02  4.58162427e-02\n",
      " -8.35753828e-02 -1.16167823e-02 -3.51000018e-03  6.73603192e-02\n",
      " -6.62320703e-02  3.64346020e-02 -6.85378388e-02 -4.43773195e-02\n",
      "  6.35948554e-02  2.74464227e-02  7.96251558e-03  3.75977978e-02\n",
      " -4.13531624e-02 -5.96203208e-02  2.94254199e-02  4.32954766e-02\n",
      " -9.02745277e-02  1.42105091e-02  2.59598289e-02 -4.29092310e-02\n",
      "  1.21095203e-01 -4.23453189e-02 -6.47594333e-02  5.03550582e-02\n",
      "  2.40585934e-02 -2.40838509e-02 -1.17582001e-01  6.96332147e-03\n",
      " -4.55173403e-02 -1.23189524e-01  7.35558644e-02 -4.83275671e-03\n",
      "  1.86053012e-02 -1.33366153e-01  6.82306513e-02 -2.37312671e-02\n",
      "  1.87905263e-02  3.19912210e-02 -6.16167439e-03 -4.03747484e-02\n",
      " -3.96255739e-02 -4.07212265e-02  1.26142770e-01 -1.46410856e-02\n",
      "  1.80556569e-02 -5.48200086e-02  4.94633503e-02 -1.28295263e-02\n",
      "  2.72300150e-02  1.90896466e-02 -5.24500199e-02  5.03399549e-03\n",
      "  4.20809314e-02  1.95196643e-02 -7.35436454e-02  4.43847738e-02\n",
      " -9.29682180e-02 -5.82497679e-02 -4.74248687e-03  8.50135162e-02\n",
      " -2.00835895e-02  3.54022235e-02  9.53949839e-02 -3.99423018e-02\n",
      " -1.73479598e-02 -7.67138302e-02 -2.31076572e-02  8.37662891e-02\n",
      " -2.69589182e-02 -2.58015823e-02  3.69098261e-02 -4.98943366e-02\n",
      "  2.31660027e-02  5.75220287e-02  5.34923859e-02 -4.30203155e-02\n",
      "  3.42603251e-02 -3.75294350e-02  9.59702879e-02 -8.95255581e-02\n",
      "  5.67960031e-02  7.81280994e-02  3.41474339e-02  6.57985881e-02\n",
      " -1.16081044e-01 -4.29261364e-02  3.48587371e-02 -4.50636229e-33\n",
      "  9.37952939e-03  5.25553478e-03 -3.02544345e-06 -1.20336339e-02\n",
      "  1.72130689e-01 -5.47756366e-02 -6.06231131e-02  1.16686989e-02\n",
      " -7.15324134e-02  7.10514858e-02  3.33673358e-02  2.42290888e-02\n",
      "  3.18016410e-02 -5.33187464e-02 -8.94657597e-02 -3.29487845e-02\n",
      " -3.48716825e-02  6.17014943e-03  2.59044021e-02 -6.80527790e-03\n",
      "  1.10978521e-02  4.08335030e-02  1.00604026e-02 -5.80341220e-02\n",
      " -7.58931264e-02 -4.56643887e-02 -4.18956168e-02  9.84871835e-02\n",
      "  4.28004377e-02  2.32964922e-02 -1.01219844e-02 -3.13462093e-02\n",
      "  2.51262207e-02 -6.68150634e-02  7.49719739e-02 -6.58678683e-03\n",
      "  8.11389089e-02  1.87283717e-02  1.71934217e-02 -7.93077946e-02\n",
      " -1.60435420e-02  1.64608583e-02 -2.00026166e-02 -6.71281526e-03\n",
      " -3.13596129e-02  6.99434578e-02  4.04419936e-02  4.89555998e-03\n",
      "  4.08146344e-02  1.63828917e-02 -5.38638160e-02  3.05969939e-02\n",
      " -5.92023842e-02 -4.60544936e-02 -7.22305328e-02 -2.06804276e-02\n",
      " -6.93771348e-04  6.01900406e-02  7.20764101e-02  2.39539519e-02\n",
      "  6.15004338e-02  9.94853228e-02 -1.47278430e-02 -2.71855388e-02\n",
      " -6.54370198e-03  7.44288368e-03  6.30866783e-03 -5.37894107e-02\n",
      "  4.35408950e-02  3.71599346e-02 -1.70622747e-02  2.78207357e-03\n",
      "  6.21047243e-02  2.18729563e-02  2.43731849e-02 -9.33552999e-03\n",
      " -3.24133746e-02  1.27982059e-02 -1.50025208e-02 -5.75858308e-03\n",
      "  1.34908978e-03  7.48988939e-04 -1.44102238e-02  1.66906901e-02\n",
      " -7.80779943e-02 -9.72906649e-02 -1.43530201e-02 -8.27942789e-02\n",
      "  7.42386561e-03  4.76378798e-02  5.41374553e-03  1.88392680e-03\n",
      " -1.72472559e-02 -2.82324832e-02  7.72236846e-04  2.08604825e-33\n",
      "  2.28942651e-02 -9.22844410e-02 -4.44828533e-02 -1.94235183e-02\n",
      " -2.54263449e-03  4.97347638e-02 -1.75445210e-02  5.28307958e-03\n",
      "  6.94262087e-02 -2.73953024e-02 -8.63775238e-02  1.47288647e-02\n",
      "  6.43149391e-02  2.72912178e-02 -2.45131534e-02 -4.42171469e-02\n",
      "  3.16700377e-02 -4.16193046e-02 -6.08426146e-02  1.28716715e-02\n",
      "  1.39491791e-02  3.67977321e-02 -3.49969342e-02 -2.16151346e-02\n",
      "  3.42567801e-03  3.31203081e-02  2.58551687e-02  2.86065675e-02\n",
      " -9.06088874e-02  3.82157713e-02 -3.69711593e-02 -5.82209714e-02\n",
      " -6.29407838e-02 -5.22044450e-02 -1.31516099e-01  2.82098949e-02\n",
      "  1.23097077e-02 -4.53667976e-02 -7.18958080e-02 -3.00483089e-02\n",
      "  9.64600146e-02 -8.28751177e-02 -2.97214612e-02  2.41653342e-02\n",
      "  3.72909158e-02  1.23333838e-02 -2.87604779e-02  8.43844265e-02\n",
      " -6.29296079e-02  3.48846428e-02 -9.29052290e-03 -3.85461450e-02\n",
      " -5.66524751e-02 -3.65950428e-02  1.97427720e-02  5.27325980e-02\n",
      "  5.56133687e-02  2.09019482e-02  3.76861505e-02  5.13826534e-02\n",
      " -1.36934007e-02  5.30909002e-02 -1.52476579e-01  3.77090797e-02\n",
      "  8.08512345e-02 -4.34625261e-02 -5.74649274e-02 -4.12577540e-02\n",
      " -1.76263917e-02  2.68500224e-02 -8.49656295e-03  2.30564531e-02\n",
      "  9.13115591e-03 -2.75323801e-02 -3.94251309e-02  2.35868618e-02\n",
      "  8.05207714e-02  5.50754853e-02 -2.51783319e-02 -7.27381464e-03\n",
      " -1.07804053e-02 -1.46135399e-02 -1.73426718e-02  1.12764604e-01\n",
      "  1.08906023e-01  1.89959817e-02  2.80604772e-02  1.28384831e-03\n",
      "  1.52625768e-02  6.44784570e-02 -2.95556011e-03 -1.65605191e-02\n",
      " -2.87862886e-02  6.89679459e-02  1.23630036e-02 -2.58606452e-08\n",
      "  1.42063037e-03  8.74140561e-02 -6.41653165e-02 -9.39926878e-02\n",
      " -3.88970412e-03  1.89130157e-02  1.23214126e-01  4.33338061e-02\n",
      " -2.96638012e-02  7.27983341e-02  1.07485922e-02  4.59795259e-02\n",
      "  3.60690616e-02  9.09989327e-02 -3.86989079e-02  3.40014845e-02\n",
      "  6.32728934e-02 -4.55614589e-02 -2.52676625e-02  3.07470560e-02\n",
      "  2.53868345e-02 -1.82103943e-02  1.08385704e-01 -7.62606785e-02\n",
      "  1.74033539e-05  1.00649922e-04 -8.06219224e-03 -2.10054331e-02\n",
      " -7.85978436e-02 -7.93361068e-02 -1.19198412e-02  1.18014008e-01\n",
      " -4.19259444e-02 -1.13235869e-01  1.94516368e-02  1.30483583e-02\n",
      "  2.92166043e-02  5.48653230e-02 -2.50745956e-02 -3.55144814e-02\n",
      " -9.75399092e-02  1.09181134e-02 -2.73647942e-02  3.00656036e-02\n",
      " -1.49163266e-03  2.14651432e-02  1.48223238e-02  4.58925106e-02\n",
      "  4.72957753e-02 -1.30782286e-02 -2.59084962e-02 -2.84986869e-02\n",
      " -1.50731318e-02 -2.11421959e-02 -3.12987193e-02 -6.88396692e-02\n",
      " -4.40077782e-02  3.86739597e-02 -1.47400387e-02  1.26048243e-02\n",
      "  6.96315393e-02  6.84666783e-02 -2.45822463e-02 -7.13204443e-02]\n",
      "\n",
      "Full embedding has 384 dimensions.\n"
     ]
    }
   ],
   "source": [
    "stored_data = vector_store._collection.get(include=[\"embeddings\", \"documents\"], limit = 1)  \n",
    "\n",
    "# Display the results\n",
    "print(\"First chunk text:\\n\", stored_data['documents'][0])\n",
    "print(\"\\nEmbedding vector:\\n\", stored_data['embeddings'][0])\n",
    "print(f\"\\nFull embedding has {len(stored_data['embeddings'][0])} dimensions.\")"
   ]
  },
  {
   "cell_type": "code",
   "execution_count": 11,
   "id": "23638587-8603-4ee4-acb2-3f039f690b83",
   "metadata": {},
   "outputs": [
    {
     "name": "stdout",
     "output_type": "stream",
     "text": [
      "Searching for documents similar to: 'Who is Daniel Humm?'\n",
      "\n",
      "Found 1 similar documents:\n",
      "\n",
      "--- Document 1 ---\n",
      "content:Source: https://www.elevenmadisonpark.com/press-and-accolades\n",
      "Title: Press and Accolades — Eleven Madison Park\n",
      "Content:\n",
      "Accolades World’s 50 Best Best of the Best The New York Times Four Stars Michelin Guide Three Stars Wine Spectator Grand Award The World of Fine Wine Best Overall Wine List James Beard Foundation Outstanding Chef, Outstanding Service, Outstanding Pastry Chef, Outstanding Restaurant, Best Chef: NYC, Outstanding Wine Service, Rising Star Chef Recent Press Time: “Is Cooking for the 1% for a Reason” Washington Post: “The Joy of Plant-Based Eating” Interview: “Daniel Humm Is Begging You to Eat More Plants” Financial Times: \"Epicurean escapes: Alain Ducasse and Daniel Humm’s tran\n",
      "source:eleven_madison_park_data.txt\n"
     ]
    }
   ],
   "source": [
    "test_query=\"Who is Daniel Humm?\"\n",
    "print(f\"Searching for documents similar to: '{test_query}'\")\n",
    "try:\n",
    "    similar_docs=vector_store.similarity_search(test_query,k=1)\n",
    "    print(f\"\\nFound {len(similar_docs)} similar documents:\")\n",
    "    for i,doc in enumerate(similar_docs):\n",
    "        print(f\"\\n--- Document {i+1} ---\")\n",
    "        content=doc.page_content[:700].strip()\n",
    "        source=doc.metadata.get(\"source\", \"Unknown Source\") \n",
    "        print(f\"content:{content}\")\n",
    "        print(f\"source:{source}\")\n",
    "\n",
    "except Exception as e:\n",
    "    print(f\"An error occurred during similarity search: {e}\")\n",
    "\n",
    "        \n",
    "        \n",
    "\n",
    "\n",
    "    "
   ]
  },
  {
   "cell_type": "code",
   "execution_count": 60,
   "id": "0406f63e-e02e-4a47-911c-02cc475bc964",
   "metadata": {},
   "outputs": [
    {
     "name": "stdout",
     "output_type": "stream",
     "text": [
      "RetrievalQAWithSourcesChain created\n"
     ]
    }
   ],
   "source": [
    "from langchain_openai import ChatOpenAI\n",
    "retriever=vector_store.as_retriever(search_kwargs={\"k\":3})\n",
    "llm=ChatOpenAI(temperature=0,openai_api_key=openai_api_key,\n",
    "          openai_api_base=\"https://openrouter.ai/api/v1\",\n",
    "          model=\"mistralai/mistral-small-3.2-24b-instruct:free\")\n",
    "qa_chain=RetrievalQAWithSourcesChain.from_chain_type(llm=llm,\n",
    "                                                    retriever=retriever,\n",
    "                                                    chain_type=\"stuff\",# chain_type=\"stuff\": Puts all retrieved text directly into the prompt context.\n",
    "#                      Suitable if the total text fits within the LLM's context limit.\n",
    "                                                    return_source_documents = True,\n",
    "                                                    verbose=True)\n",
    "\n",
    "\n",
    "print(\"RetrievalQAWithSourcesChain created\")"
   ]
  },
  {
   "cell_type": "code",
   "execution_count": 12,
   "id": "7aa4196d-5556-44b1-a35a-8a47a0106ce4",
   "metadata": {},
   "outputs": [
    {
     "name": "stdout",
     "output_type": "stream",
     "text": [
      "\n",
      " Testing Full RAG Chain\n",
      "there is an error\n"
     ]
    }
   ],
   "source": [
    "print(\"\\n Testing Full RAG Chain\")\n",
    "chain_test_query=\"what the name of chef\"\n",
    "try:\n",
    "    result=qa_chain.invoke({\"question\":chain_test_query})\n",
    "    print(\"answering\")\n",
    "    print(result.get(\"answer\",\"No answer generated.\"))\n",
    "    print(\"\\n--- Sources ---\")\n",
    "    print(result.get(\"sources\", \"No sources identified.\"))\n",
    "\n",
    "except Exception as e:\n",
    "    print(\"there is an error\")"
   ]
  },
  {
   "cell_type": "code",
   "execution_count": 13,
   "id": "70e12bac-4f3b-424f-98aa-4462d2306cbc",
   "metadata": {},
   "outputs": [
    {
     "ename": "NameError",
     "evalue": "name 'gr' is not defined",
     "output_type": "error",
     "traceback": [
      "\u001b[31m---------------------------------------------------------------------------\u001b[39m",
      "\u001b[31mNameError\u001b[39m                                 Traceback (most recent call last)",
      "\u001b[36mCell\u001b[39m\u001b[36m \u001b[39m\u001b[32mIn[13]\u001b[39m\u001b[32m, line 15\u001b[39m\n\u001b[32m     10\u001b[39m         \u001b[38;5;28;01mreturn\u001b[39;00m \u001b[33mf\u001b[39m\u001b[33m\"\u001b[39m\u001b[33m⚠️ Error: \u001b[39m\u001b[38;5;132;01m{\u001b[39;00m\u001b[38;5;28mstr\u001b[39m(e)\u001b[38;5;132;01m}\u001b[39;00m\u001b[33m\"\u001b[39m\n\u001b[32m     12\u001b[39m \u001b[38;5;66;03m# -----------------------------\u001b[39;00m\n\u001b[32m     13\u001b[39m \u001b[38;5;66;03m# Gradio Interface\u001b[39;00m\n\u001b[32m     14\u001b[39m \u001b[38;5;66;03m# -----------------------------\u001b[39;00m\n\u001b[32m---> \u001b[39m\u001b[32m15\u001b[39m \u001b[38;5;28;01mwith\u001b[39;00m \u001b[43mgr\u001b[49m.Blocks(theme=gr.themes.Soft()) \u001b[38;5;28;01mas\u001b[39;00m demo:\n\u001b[32m     16\u001b[39m     gr.Markdown(\u001b[33m\"\u001b[39m\u001b[33m## 📚 RAG Q&A Assistant\u001b[39m\u001b[33m\"\u001b[39m)\n\u001b[32m     17\u001b[39m     \u001b[38;5;28;01mwith\u001b[39;00m gr.Row():\n",
      "\u001b[31mNameError\u001b[39m: name 'gr' is not defined"
     ]
    }
   ],
   "source": [
    "def rag_query(user_query):\n",
    "    try:\n",
    "        result = qa_chain.invoke({\"question\": user_query})\n",
    "        answer = result.get(\"answer\", \"No answer generated.\")\n",
    "        sources = result.get(\"sources\", \"No sources identified.\")\n",
    "\n",
    "        formatted_answer = f\"### Answer\\n{answer}\\n\\n### Sources\\n{sources}\"\n",
    "        return formatted_answer\n",
    "    except Exception as e:\n",
    "        return f\"⚠️ Error: {str(e)}\"\n",
    "\n",
    "# -----------------------------\n",
    "# Gradio Interface\n",
    "# -----------------------------\n",
    "with gr.Blocks(theme=gr.themes.Soft()) as demo:\n",
    "    gr.Markdown(\"## 📚 RAG Q&A Assistant\")\n",
    "    with gr.Row():\n",
    "        with gr.Column(scale=2):\n",
    "            query_box = gr.Textbox(\n",
    "                label=\"Ask a question:\",\n",
    "                placeholder=\"Type your question here...\",\n",
    "                lines=2,\n",
    "            )\n",
    "            submit_btn = gr.Button(\"🔍 Search & Answer\")\n",
    "        with gr.Column(scale=3):\n",
    "            output_box = gr.Markdown(label=\"Answer\")\n",
    "\n",
    "    submit_btn.click(rag_query, inputs=query_box, outputs=output_box)\n",
    "\n",
    "demo.launch()"
   ]
  },
  {
   "cell_type": "code",
   "execution_count": null,
   "id": "4728fed8-c9fc-4084-9c21-966aeea776a7",
   "metadata": {},
   "outputs": [],
   "source": []
  }
 ],
 "metadata": {
  "kernelspec": {
   "display_name": "Python 3 (ipykernel)",
   "language": "python",
   "name": "python3"
  },
  "language_info": {
   "codemirror_mode": {
    "name": "ipython",
    "version": 3
   },
   "file_extension": ".py",
   "mimetype": "text/x-python",
   "name": "python",
   "nbconvert_exporter": "python",
   "pygments_lexer": "ipython3",
   "version": "3.12.7"
  }
 },
 "nbformat": 4,
 "nbformat_minor": 5
}
