{
 "cells": [
  {
   "cell_type": "markdown",
   "id": "7658ab3f-1213-4528-809f-dad4de5d0be1",
   "metadata": {},
   "source": [
    "**Load Libraries**"
   ]
  },
  {
   "cell_type": "code",
   "execution_count": null,
   "id": "ae918a00-f8b9-493a-88a3-d4cf6faa60df",
   "metadata": {},
   "outputs": [],
   "source": [
    "!pip install -U langchain langchain-openai openai  chromadb gradio dotenv  langchain-community\n",
    "print(\"loaded successfully\")"
   ]
  },
  {
   "cell_type": "code",
   "execution_count": null,
   "id": "0258d999-88aa-4aa9-9a02-d17c7cefba5c",
   "metadata": {},
   "outputs": [],
   "source": [
    "!pip install --upgrade openai\n",
    "import os\n",
    "from openai import OpenAI\n",
    "from dotenv import load_dotenv\n",
    "load_dotenv()\n",
    "openai_api_key=os.getenv(\"OPENAI_API_KEY\")\n",
    "openai_client=OpenAI(api_key=openai_api_key,base_url=\"https://openrouter.ai/api/v1\")\n",
    "print(\"first 5 chars \",{openai_api_key[:5]})"
   ]
  },
  {
   "cell_type": "code",
   "execution_count": 22,
   "id": "e596de72-5de4-4573-935a-e8b778c7bd7d",
   "metadata": {},
   "outputs": [],
   "source": [
    "#load langchain components\n",
    "from langchain_openai import OpenAIEmbeddings,OpenAI\n",
    "from langchain.vectorstores import Chroma\n",
    "from langchain.text_splitter import RecursiveCharacterTextSplitter\n",
    "from langchain.document_loaders import TextLoader\n",
    "from langchain.chains import RetrievalQAWithSourcesChain "
   ]
  },
  {
   "cell_type": "code",
   "execution_count": 23,
   "id": "a489cfa4-602c-4b13-9bc7-ff2bb7108639",
   "metadata": {},
   "outputs": [
    {
     "name": "stdout",
     "output_type": "stream",
     "text": [
      "file path-> eleven_madison_park_data.txt\n"
     ]
    }
   ],
   "source": [
    "DATA_FILE_PATH=\"eleven_madison_park_data.txt\"\n",
    "print(f\"file path-> {DATA_FILE_PATH}\")"
   ]
  },
  {
   "cell_type": "code",
   "execution_count": 24,
   "id": "a5c33c39-c3e7-40de-81dc-96c959e58c31",
   "metadata": {},
   "outputs": [
    {
     "name": "stdout",
     "output_type": "stream",
     "text": [
      "loaded successfully 1 document\n"
     ]
    }
   ],
   "source": [
    "loader=TextLoader(DATA_FILE_PATH,encoding=\"utf-8\")\n",
    "raw_document=loader.load()\n",
    "print(f\"loaded successfully {len(raw_document)} document\")"
   ]
  },
  {
   "cell_type": "code",
   "execution_count": null,
   "id": "ece8591d-6e50-4419-b70b-25c34c6f243a",
   "metadata": {},
   "outputs": [],
   "source": [
    "print(f\"{raw_document[0].page_content[-750:] + \"...\" }\")"
   ]
  },
  {
   "cell_type": "code",
   "execution_count": 26,
   "id": "7cc7f5bb-0ff7-411a-91d5-023ae199732a",
   "metadata": {},
   "outputs": [
    {
     "name": "stdout",
     "output_type": "stream",
     "text": [
      "document split int 38 chunks\n"
     ]
    }
   ],
   "source": [
    "#split the document into chunks\n",
    "text_splitter=RecursiveCharacterTextSplitter(chunk_size=1000,chunk_overlap=150)\n",
    "documents=text_splitter.split_documents(raw_document)\n",
    "if not documents:\n",
    "    raise ValueError(\"Error: Splitting resulted in zero documents. Check the input file and splitter settings.\")\n",
    "print(f\"document split int {len(documents)} chunks\")"
   ]
  },
  {
   "cell_type": "code",
   "execution_count": 27,
   "id": "ca25119d-c0c6-4313-a68d-0979ca0e730d",
   "metadata": {},
   "outputs": [
    {
     "name": "stdout",
     "output_type": "stream",
     "text": [
      "documet content..\n",
      "Source: https://www.elevenmadisonpark.com/\n",
      "Title: Eleven Madison Park\n",
      "Content:\n",
      "Book on Resy\n",
      "---END OF SOURCE---\n",
      "metadata...\n",
      "{'source': 'eleven_madison_park_data.txt'}\n"
     ]
    }
   ],
   "source": [
    "print(\"documet content..\")\n",
    "print(documents[0].page_content)\n",
    "print(\"metadata...\")\n",
    "print(documents[0].metadata)      \n"
   ]
  },
  {
   "cell_type": "code",
   "execution_count": null,
   "id": "aff555c6-1060-455c-9b23-548a188a1b2c",
   "metadata": {},
   "outputs": [],
   "source": [
    "!pip install -U sentence-transformers langchain-huggingface\n",
    "\n",
    "from langchain_community.embeddings import HuggingFaceEmbeddings\n",
    "\n",
    "# pick one of the models above\n",
    "embeddings = HuggingFaceEmbeddings(model_name=\"sentence-transformers/all-MiniLM-L6-v2\")\n",
    "\n",
    "vector_store = Chroma.from_documents(documents=documents, embedding=embeddings)\n",
    "\n",
    "print(\"Vector store created with\", vector_store._collection.count(), \"items\")"
   ]
  },
  {
   "cell_type": "code",
   "execution_count": null,
   "id": "ce3b4471-3fc5-45e9-873d-eb0c15635d59",
   "metadata": {},
   "outputs": [],
   "source": [
    "stored_data = vector_store._collection.get(include=[\"embeddings\", \"documents\"], limit = 1)  \n",
    "\n",
    "# Display the results\n",
    "print(\"First chunk text:\\n\", stored_data['documents'][0])\n",
    "print(\"\\nEmbedding vector:\\n\", stored_data['embeddings'][0])\n",
    "print(f\"\\nFull embedding has {len(stored_data['embeddings'][0])} dimensions.\")"
   ]
  },
  {
   "cell_type": "code",
   "execution_count": 31,
   "id": "23638587-8603-4ee4-acb2-3f039f690b83",
   "metadata": {},
   "outputs": [
    {
     "name": "stdout",
     "output_type": "stream",
     "text": [
      "Searching for documents similar to: 'Who is Daniel Humm?'\n",
      "\n",
      "Found 1 similar documents:\n",
      "\n",
      "--- Document 1 ---\n",
      "content:Source: https://www.elevenmadisonpark.com/press-and-accolades\n",
      "Title: Press and Accolades — Eleven Madison Park\n",
      "Content:\n",
      "Accolades World’s 50 Best Best of the Best The New York Times Four Stars Michelin Guide Three Stars Wine Spectator Grand Award The World of Fine Wine Best Overall Wine List James Beard Foundation Outstanding Chef, Outstanding Service, Outstanding Pastry Chef, Outstanding Restaurant, Best Chef: NYC, Outstanding Wine Service, Rising Star Chef Recent Press Time: “Is Cooking for the 1% for a Reason” Washington Post: “The Joy of Plant-Based Eating” Interview: “Daniel Humm Is Begging You to Eat More Plants” Financial Times: \"Epicurean escapes: Alain Ducasse and Daniel Humm’s tran\n",
      "source:eleven_madison_park_data.txt\n"
     ]
    }
   ],
   "source": [
    "test_query=\"Who is Daniel Humm?\"\n",
    "print(f\"Searching for documents similar to: '{test_query}'\")\n",
    "try:\n",
    "    similar_docs=vector_store.similarity_search(test_query,k=1)\n",
    "    print(f\"\\nFound {len(similar_docs)} similar documents:\")\n",
    "    for i,doc in enumerate(similar_docs):\n",
    "        print(f\"\\n--- Document {i+1} ---\")\n",
    "        content=doc.page_content[:700].strip()\n",
    "        source=doc.metadata.get(\"source\", \"Unknown Source\") \n",
    "        print(f\"content:{content}\")\n",
    "        print(f\"source:{source}\")\n",
    "\n",
    "except Exception as e:\n",
    "    print(f\"An error occurred during similarity search: {e}\")\n",
    "\n",
    "        \n",
    "        \n",
    "\n",
    "\n",
    "    "
   ]
  },
  {
   "cell_type": "code",
   "execution_count": 32,
   "id": "0406f63e-e02e-4a47-911c-02cc475bc964",
   "metadata": {},
   "outputs": [
    {
     "name": "stdout",
     "output_type": "stream",
     "text": [
      "RetrievalQAWithSourcesChain created\n"
     ]
    }
   ],
   "source": [
    "from langchain_openai import ChatOpenAI\n",
    "retriever=vector_store.as_retriever(search_kwargs={\"k\":3})\n",
    "llm=ChatOpenAI(temperature=0,openai_api_key=openai_api_key,\n",
    "          openai_api_base=\"https://openrouter.ai/api/v1\",\n",
    "          model=\"mistralai/mistral-small-3.2-24b-instruct:free\")\n",
    "qa_chain=RetrievalQAWithSourcesChain.from_chain_type(llm=llm,\n",
    "                                                    retriever=retriever,\n",
    "                                                    chain_type=\"stuff\",# chain_type=\"stuff\": Puts all retrieved text directly into the prompt context.\n",
    "#                      Suitable if the total text fits within the LLM's context limit.\n",
    "                                                    return_source_documents = True,\n",
    "                                                    verbose=True)\n",
    "\n",
    "\n",
    "print(\"RetrievalQAWithSourcesChain created\")"
   ]
  },
  {
   "cell_type": "code",
   "execution_count": null,
   "id": "7aa4196d-5556-44b1-a35a-8a47a0106ce4",
   "metadata": {},
   "outputs": [],
   "source": [
    "print(\"\\n Testing Full RAG Chain\")\n",
    "chain_test_query=\"what the name of chef\"\n",
    "try:\n",
    "    result=qa_chain.invoke({\"question\":chain_test_query})\n",
    "    print(\"answering\")\n",
    "    print(result.get(\"answer\",\"No answer generated.\"))\n",
    "    print(\"\\n--- Sources ---\")\n",
    "    print(result.get(\"sources\", \"No sources identified.\"))\n",
    "\n",
    "except Exception as e:\n",
    "    print(\"there is an error\")"
   ]
  },
  {
   "cell_type": "code",
   "execution_count": null,
   "id": "70e12bac-4f3b-424f-98aa-4462d2306cbc",
   "metadata": {},
   "outputs": [],
   "source": [
    "import gradio as gr\n",
    "def rag_query(user_query):\n",
    "    try:\n",
    "        result = qa_chain.invoke({\"question\": user_query})\n",
    "        answer = result.get(\"answer\", \"No answer generated.\")\n",
    "        sources = result.get(\"sources\", \"No sources identified.\")\n",
    "\n",
    "        formatted_answer = f\"### Answer\\n{answer}\\n\\n### Sources\\n{sources}\"\n",
    "        return formatted_answer\n",
    "    except Exception as e:\n",
    "        return f\"⚠️ Error: {str(e)}\"\n",
    "\n",
    "# -----------------------------\n",
    "# Gradio Interface\n",
    "# -----------------------------\n",
    "with gr.Blocks(theme=gr.themes.Soft()) as demo:\n",
    "    gr.Markdown(\"## 📚 RAG Q&A Assistant\")\n",
    "    with gr.Row():\n",
    "        with gr.Column(scale=2):\n",
    "            query_box = gr.Textbox(\n",
    "                label=\"Ask a question:\",\n",
    "                placeholder=\"Type your question here...\",\n",
    "                lines=2,\n",
    "            )\n",
    "            submit_btn = gr.Button(\"🔍 Search & Answer\")\n",
    "        with gr.Column(scale=3):\n",
    "            output_box = gr.Markdown(label=\"Answer\")\n",
    "\n",
    "    submit_btn.click(rag_query, inputs=query_box, outputs=output_box)\n",
    "\n",
    "demo.launch()"
   ]
  },
  {
   "cell_type": "code",
   "execution_count": null,
   "id": "4728fed8-c9fc-4084-9c21-966aeea776a7",
   "metadata": {},
   "outputs": [],
   "source": []
  }
 ],
 "metadata": {
  "kernelspec": {
   "display_name": "Python 3 (ipykernel)",
   "language": "python",
   "name": "python3"
  },
  "language_info": {
   "codemirror_mode": {
    "name": "ipython",
    "version": 3
   },
   "file_extension": ".py",
   "mimetype": "text/x-python",
   "name": "python",
   "nbconvert_exporter": "python",
   "pygments_lexer": "ipython3",
   "version": "3.12.7"
  }
 },
 "nbformat": 4,
 "nbformat_minor": 5
}
